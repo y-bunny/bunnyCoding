{
 "cells": [
  {
   "cell_type": "code",
   "execution_count": 1,
   "metadata": {
    "collapsed": false
   },
   "outputs": [
    {
     "name": "stdout",
     "output_type": "stream",
     "text": [
      "e ['d', 'f', 'b']\n",
      "c ['e', 'd', 'g']\n",
      "j ['g', 'h', 'a']\n",
      "h ['b', 'i', 'a', 'd']\n",
      "i ['j', 'e', 'g', 'c']\n",
      "f ['h', 'j', 'c', 'g']\n",
      "g ['i', 'a']\n",
      "a ['d', 'g', 'c']\n",
      "d ['c', 'i', 'a', 'g']\n",
      "b ['a', 'c']\n",
      "this is todo ['j', 'a'] these are visited vertices ['g', 'i']\n",
      "this is todo ['e', 'j', 'a'] these are visited vertices ['g', 'i']\n",
      "this is todo ['c', 'e', 'j', 'a'] these are visited vertices ['g', 'i']\n",
      "this is todo ['d', 'e', 'j', 'a'] these are visited vertices ['g', 'i', 'c']\n",
      "this is todo ['f', 'j', 'a'] these are visited vertices ['g', 'i', 'c', 'd', 'e']\n",
      "this is todo ['b', 'f', 'j', 'a'] these are visited vertices ['g', 'i', 'c', 'd', 'e']\n",
      "b  is found\n"
     ]
    }
   ],
   "source": [
    "import numpy as np  # directed graph\n",
    "np.random.seed(1)\n",
    "class Graph():\n",
    "    def __init__(self):\n",
    "        self.graph = {}\n",
    "        \n",
    "    def add_vertex(self, name):\n",
    "        if name not in self.graph.keys():\n",
    "            self.graph[name] = []\n",
    "        \n",
    "        \n",
    "    def add_connection(self, start, end):\n",
    "        if start not in self.graph.keys(): return\n",
    "        if end in self.graph[start]: return\n",
    "        if start != end:\n",
    "            self.graph[start].append(end)\n",
    "        \n",
    "        \n",
    "    def add_items_randomly(self):\n",
    "        vertex_list = ['a','b','c','d','e','f','g','h','i','j']\n",
    "        probability = [0.1,0.1,0.2,0.1, 0.05,0.05,0.2,0.05,0.05,0.1]\n",
    "        for k in vertex_list:\n",
    "            self.add_vertex(k) # all vertices are created with no connection\n",
    "            for i in range(4):\n",
    "                connection = np.random.choice(vertex_list, p = probability) \n",
    "                self.add_connection(k, connection) # connections are created with some volatility/popularity order\n",
    "            \n",
    "            \n",
    "    def print_graph(self):\n",
    "        for k,v in self.graph.items():\n",
    "            print(k,v)\n",
    "        \n",
    "        \n",
    "    def find_connection(self, start, end):\n",
    "        if end in self.graph[start]: return True\n",
    "        todo = self.graph[start]\n",
    "        visited_vertices = []\n",
    "        visited_vertices.append(start)\n",
    "        self._find_connection(start, end, todo, visited_vertices)\n",
    "            \n",
    "    \n",
    "    def _find_connection(self, start, end, todo, visited_vertices): # start is g, end is b, todo is i,a, visited is g\n",
    "        # YB: what are g, b, i, a, g?\n",
    "        if end in todo: \n",
    "            print(end , ' is found')\n",
    "            return True\n",
    "        if len(todo) == 0: return False\n",
    "        first_item_in_todo = todo.pop(0)\n",
    "        if first_item_in_todo not in visited_vertices:\n",
    "            visited_vertices.append(first_item_in_todo)\n",
    "        for each_connection in self.graph[first_item_in_todo]:\n",
    "            if each_connection not in todo and each_connection not in visited_vertices: \n",
    "                todo.insert(0,each_connection)\n",
    "                print('this is todo', todo, 'these are visited vertices' ,visited_vertices)\n",
    "        self._find_connection(first_item_in_todo, end, todo, visited_vertices)\n",
    "       \n",
    "        \n",
    "        \n",
    "        \n",
    "test_graph = Graph()\n",
    "test_graph.add_items_randomly()\n",
    "test_graph.print_graph()\n",
    "test_graph.find_connection('g','b') # trying to reach to b from g\n",
    "        \n",
    "        "
   ]
  }
 ],
 "metadata": {
  "kernelspec": {
   "display_name": "Python 3",
   "language": "python",
   "name": "python3"
  },
  "language_info": {
   "codemirror_mode": {
    "name": "ipython",
    "version": 3
   },
   "file_extension": ".py",
   "mimetype": "text/x-python",
   "name": "python",
   "nbconvert_exporter": "python",
   "pygments_lexer": "ipython3",
   "version": "3.5.3"
  }
 },
 "nbformat": 4,
 "nbformat_minor": 0
}
